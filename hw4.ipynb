{
 "cells": [
  {
   "cell_type": "markdown",
   "id": "0e6df385",
   "metadata": {},
   "source": [
    "# IEOR 160 HW 4"
   ]
  },
  {
   "cell_type": "markdown",
   "id": "53bfe9b1",
   "metadata": {},
   "source": [
    "## Imports"
   ]
  },
  {
   "cell_type": "code",
   "execution_count": 2,
   "id": "61426feb",
   "metadata": {},
   "outputs": [],
   "source": [
    "import cvxpy as cp\n",
    "import numpy as np\n",
    "import matplotlib.pyplot as plt\n",
    "import math\n",
    "from sympy import symbols, diff"
   ]
  },
  {
   "cell_type": "markdown",
   "id": "bf5125f1",
   "metadata": {},
   "source": [
    "## Problem 1"
   ]
  },
  {
   "cell_type": "code",
   "execution_count": 9,
   "id": "6ba55661",
   "metadata": {},
   "outputs": [
    {
     "name": "stdout",
     "output_type": "stream",
     "text": [
      "x1: [-0.64164692]\n",
      "x2: [0.35835308]\n",
      "x3: [1.35835307]\n"
     ]
    }
   ],
   "source": [
    "#Solution derived using CVX\n",
    "#initializing the variables to be optimized\n",
    "x1 = cp.Variable(1)\n",
    "x2 = cp.Variable(1)\n",
    "x3 = cp.Variable(1)\n",
    "#a**x = cp.exp(cp.multiply(np.log(a), x))\n",
    "term1 = cp.exp(x1 - 1)\n",
    "term2 = cp.exp(-x1 + 1)\n",
    "term3 = cp.exp(x2 - 2)\n",
    "term4 = cp.exp(-x2 + 2)\n",
    "term5 = cp.exp(x3 - 3)\n",
    "term6 = cp.exp(-x3 + 3)\n",
    "term7 = cp.power(x1 + x2 + x3, 4)\n",
    "objective = term1 + term2 + term3 + term4 + term5 + term6 + term7\n",
    "problem = cp.Problem(cp.Minimize(objective))\n",
    "res = problem.solve()\n",
    "print(\"x1: {0}\\nx2: {1}\\nx3: {2}\".format(x1.value, x2.value, x3.value))"
   ]
  },
  {
   "cell_type": "code",
   "execution_count": null,
   "id": "8ea4952c",
   "metadata": {},
   "outputs": [],
   "source": [
    "#write a function that handles a single step of gradient descent\n",
    "#write a wrapper function that will call gradient descent maxIter number of times\n",
    "def gradientMethod(lossFn, variables, backtrack_param, maxIter, verbose=False, initial):\n",
    "    print(\"initial guess: {0}\".format(initial))\n",
    "    nextPos = initial\n",
    "    for i in range(maxIter):\n",
    "        nextPos = oneIterGD(lossFn, backtrack_param, nextPos)\n",
    "        if verbose:\n",
    "            print(\"iteration {0}: {1}\".format(i, nextPos))\n",
    "    return nextPos\n",
    "\"\"\"returns the next position from the gradient method\"\"\"\n",
    "def oneIterGD(lossFn, variables, backtrack_param, x0):\n",
    "    #TODO START\n",
    "    ret = ...\n",
    "    gradient = []\n",
    "    for i, v in enumerate(variables):\n",
    "        gradient.append(diff(lossFn, v).subs(v, x0[i]))\n",
    "    #make adjusment to x0 based on gradient results and backtrack_param and set as ret\n",
    "    return ret\n",
    "    #TODO END"
   ]
  }
 ],
 "metadata": {
  "kernelspec": {
   "display_name": "Python 3 (ipykernel)",
   "language": "python",
   "name": "python3"
  },
  "language_info": {
   "codemirror_mode": {
    "name": "ipython",
    "version": 3
   },
   "file_extension": ".py",
   "mimetype": "text/x-python",
   "name": "python",
   "nbconvert_exporter": "python",
   "pygments_lexer": "ipython3",
   "version": "3.8.8"
  }
 },
 "nbformat": 4,
 "nbformat_minor": 5
}
