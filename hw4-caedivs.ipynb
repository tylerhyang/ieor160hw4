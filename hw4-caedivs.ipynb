{
 "cells": [
  {
   "cell_type": "markdown",
   "id": "0e6df385",
   "metadata": {},
   "source": [
    "# IEOR 160 HW 4"
   ]
  },
  {
   "cell_type": "markdown",
   "id": "53bfe9b1",
   "metadata": {},
   "source": [
    "## Imports"
   ]
  },
  {
   "cell_type": "code",
   "execution_count": 18,
   "id": "805822ce",
   "metadata": {},
   "outputs": [],
   "source": [
    "# Need to have these installed every time i run \n",
    "# !pip install cvxpy\n",
    "# !pip install matplotlib\n",
    "# !pip install numpy\n",
    "# !pip install --upgrade pip\n",
    "# !pip install numdifftools"
   ]
  },
  {
   "cell_type": "code",
   "execution_count": 64,
   "id": "61426feb",
   "metadata": {},
   "outputs": [],
   "source": [
    "import cvxpy as cp\n",
    "import numpy as np\n",
    "import matplotlib.pyplot as plt\n",
    "import math\n",
    "import numdifftools as nd"
   ]
  },
  {
   "cell_type": "markdown",
   "id": "bf5125f1",
   "metadata": {},
   "source": [
    "## Problem 1"
   ]
  },
  {
   "cell_type": "code",
   "execution_count": 15,
   "id": "6ba55661",
   "metadata": {},
   "outputs": [
    {
     "name": "stdout",
     "output_type": "stream",
     "text": [
      "x1: [-0.64164692]\n",
      "x2: [0.35835308]\n",
      "x3: [1.35835307]\n",
      "Minimum Value: 17.40774602388701\n"
     ]
    }
   ],
   "source": [
    "#Solution derived using CVX\n",
    "#initializing the variables to be optimized\n",
    "\n",
    "def minimum()\n",
    "x1 = cp.Variable(1)\n",
    "x2 = cp.Variable(1)\n",
    "x3 = cp.Variable(1)\n",
    "#a**x = cp.exp(cp.multiply(np.log(a), x))\n",
    "term1 = cp.exp(x1 - 1)\n",
    "term2 = cp.exp(-x1 + 1)\n",
    "term3 = cp.exp(x2 - 2)\n",
    "term4 = cp.exp( -x2 + 2)\n",
    "term5 = cp.exp(x3 - 3)\n",
    "term6 = cp.exp(-x3 + 3)\n",
    "term7 = cp.power(x1 + x2 + x3, 4)\n",
    "\n",
    "objective = term1 + term2 + term3 + term4 + term5 + term6 + term7\n",
    "problem = cp.Problem(cp.Minimize(objective))\n",
    "res = problem.solve()\n",
    "print(\"x1: {0}\\nx2: {1}\\nx3: {2}\".format(x1.value, x2.value, x3.value))\n",
    "print(\"Minimum Value: {0}\".format(res))"
   ]
  },
  {
   "cell_type": "code",
   "execution_count": 77,
   "id": "8ea4952c",
   "metadata": {},
   "outputs": [
    {
     "name": "stdout",
     "output_type": "stream",
     "text": [
      "[1.1740990505212814, 1.010934261637063, 0.8579735973514104, 0.7156917382044803, 0.585227138748845, 0.46799190705009863, 0.3652759983786993, 0.277890691863675, 0.2059199254535269, 0.1486363873678922, 0.10459519564508923, 0.07186303194316501, 0.048303633048393024, 0.03183860947397221, 0.020630657833462962, 0.013174531793172406, 0.008310714329754276, 0.005189729490396644, 0.0032141250522492726, 0.00197734743398037, 0.0012099929054301128, 0.0007372879417850697, 0.0004477452762792211, 0.0002711896581129025, 0.00016391098635359924, 9.89070223695876e-05, 5.960421306561159e-05, 3.5881101524637415e-05, 2.158075672120674e-05, 1.2969325220879568e-05]\n"
     ]
    },
    {
     "data": {
      "text/plain": [
       "Text(0.5, 0, 'iteration')"
      ]
     },
     "execution_count": 77,
     "metadata": {},
     "output_type": "execute_result"
    },
    {
     "data": {
      "image/png": "[encoded data removed]",
      "text/plain": [
       "<Figure size 432x288 with 1 Axes>"
      ]
     },
     "metadata": {
      "needs_background": "light"
     },
     "output_type": "display_data"
    }
   ],
   "source": [
    "#write a function that handles the 1d case for gradient descent\n",
    "#write an outer function that will handle the \n",
    "#recall the direction is negative gradient for the gradient method\n",
    "\n",
    "'''\n",
    "backtracking line search steps:\n",
    "- fix a parameter beta from 0-1\n",
    "- start with iteration e = 1\n",
    "'''\n",
    "def func(x):\n",
    "    return (np.exp(x[0] - 1) + np.exp(-x[0] + 1) + np.exp(x[1] - 1) + np.exp(-x[1] + 1)\n",
    "        + np.exp(x[2] - 1) + np.exp(-x[2] + 1) +  np.power(x[0] + x[1] + x[2], 4))\n",
    "\n",
    "'''\n",
    "Initializing variables\n",
    "'''\n",
    "delta = 10 ** (-3)\n",
    "x1, x2, x3 = 0, 0, 0\n",
    "\n",
    "gradient = nd.Gradient(func)([x1, x2, x3])\n",
    "direction = -gradient\n",
    "beta = 0.01\n",
    "dpoints = []\n",
    "dpoints.append([x1, x2, x3])\n",
    "\n",
    "def backtracking(x1, x2, x3, gradient, delta, direction):\n",
    "    #when the norm is not close enough to delta continue\n",
    "    while np.linalg.norm(nd.Gradient(func)([x1, x2, x3])) > delta:\n",
    "        \n",
    "        #reset alpha/counter, backtracking line search\n",
    "        alpha = 1\n",
    "        while ((func([x1, x2, x3] + alpha * direction)) > (func([x1, x2, x3]) + alpha * beta * gradient * direction)[0]):        \n",
    "            alpha = beta * alpha\n",
    "        \n",
    "        gradient = nd.Gradient(func)([x1, x2, x3])\n",
    "        direction = -gradient\n",
    "        \n",
    "        #update points\n",
    "        x1 = x1 + alpha * direction[0]\n",
    "        x2 = x2 + alpha * direction[1]\n",
    "        x3 = x3 + alpha * direction[2]\n",
    "        dpoints.append([x1, x2, x3])\n",
    "    return dpoints\n",
    "\n",
    "dpoints = backtracking(x1, x2, x3, gradient, delta, direction)\n",
    "\n",
    "diff = []\n",
    "def draw(dpoints):\n",
    "    for i in range(30):\n",
    "        diff.append(abs(func(dpoints[i]) - func(dpoints[-1])))\n",
    "    print(diff)\n",
    "    return diff\n",
    "\n",
    "draw(dpoints)\n",
    "plt.yscale(\"log\")\n",
    "plt.plot(diff);\n",
    "plt.title(\"The difference in solution between CVXpy optima and Gradient Algorithm after 30 iterations\");\n",
    "plt.ylabel(\"|f(x*) - f(x_iteration)|\");\n",
    "plt.xlabel(\"iteration\")"
   ]
  },
  {
   "cell_type": "code",
   "execution_count": 52,
   "id": "c09220ea",
   "metadata": {},
   "outputs": [
    {
     "data": {
      "text/plain": [
       "array([4.010312, 4.010312, 4.010312])"
      ]
     },
     "execution_count": 52,
     "metadata": {},
     "output_type": "execute_result"
    }
   ],
   "source": [
    "#plot for the 3d plot\n",
    "splitted = list(zip(*pts))\n",
    "fig = plt.figure(figsize=(12, 12))\n",
    "ax = fig.add_subplot(projection='3d')\n",
    "# for i in range(len(splitted[0])):\n",
    "#     ax.quiver(0, 0, 0, splitted[0][i], splitted[1][i], splitted[2][i])\n",
    "ax.scatter(splitted[0], splitted[1], splitted[2])\n",
    "ax.set_xlabel(\"x1\")\n",
    "ax.set_ylabel(\"x2\")\n",
    "ax.set_zlabel(\"x3\");"
   ]
  },
  {
   "cell_type": "code",
   "execution_count": 47,
   "id": "3c53a3ee",
   "metadata": {},
   "outputs": [
    {
     "data": {
      "text/plain": [
       "2484.3852535790575"
      ]
     },
     "execution_count": 47,
     "metadata": {},
     "output_type": "execute_result"
    }
   ],
   "source": [
    "(func([x1, x2, x3] + 1 * direction))"
   ]
  }
 ],
 "metadata": {
  "kernelspec": {
   "display_name": "Python 3 (ipykernel)",
   "language": "python",
   "name": "python3"
  },
  "language_info": {
   "codemirror_mode": {
    "name": "ipython",
    "version": 3
   },
   "file_extension": ".py",
   "mimetype": "text/x-python",
   "name": "python",
   "nbconvert_exporter": "python",
   "pygments_lexer": "ipython3",
   "version": "3.9.0"
  }
 },
 "nbformat": 4,
 "nbformat_minor": 5
}
