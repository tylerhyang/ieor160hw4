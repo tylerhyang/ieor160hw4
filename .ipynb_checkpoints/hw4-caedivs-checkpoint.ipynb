{
 "cells": [
  {
   "cell_type": "markdown",
   "id": "0e6df385",
   "metadata": {},
   "source": [
    "# IEOR 160 HW 4"
   ]
  },
  {
   "cell_type": "markdown",
   "id": "53bfe9b1",
   "metadata": {},
   "source": [
    "## Imports"
   ]
  },
  {
   "cell_type": "code",
   "execution_count": 1,
   "id": "805822ce",
   "metadata": {},
   "outputs": [],
   "source": [
    "# Need to have these installed every time i run \n",
    "# !pip install cvxpy\n",
    "# !pip install matplotlib\n",
    "# !pip install numpy\n",
    "# !pip install --upgrade pip\n",
    "# !pip install numdifftools"
   ]
  },
  {
   "cell_type": "code",
   "execution_count": 7,
   "id": "61426feb",
   "metadata": {},
   "outputs": [],
   "source": [
    "import cvxpy as cp\n",
    "import numpy as np\n",
    "import matplotlib.pyplot as plt\n",
    "import math\n",
    "import numdifftools as nd"
   ]
  },
  {
   "cell_type": "markdown",
   "id": "bf5125f1",
   "metadata": {},
   "source": [
    "## Problem 1"
   ]
  },
  {
   "cell_type": "code",
   "execution_count": 8,
   "id": "6ba55661",
   "metadata": {},
   "outputs": [
    {
     "name": "stdout",
     "output_type": "stream",
     "text": [
      "x1: [-0.64164692]\n",
      "x2: [0.35835308]\n",
      "x3: [1.35835307]\n",
      "Minimum Value: 17.40774602388701\n"
     ]
    }
   ],
   "source": [
    "#Solution derived using CVX\n",
    "#initializing the variables to be optimized\n",
    "\n",
    "opt_x1 = cp.Variable(1)\n",
    "opt_x2 = cp.Variable(1)\n",
    "opt_x3 = cp.Variable(1)\n",
    "#a**x = cp.exp(cp.multiply(np.log(a), x))\n",
    "term1 = cp.exp(opt_x1 - 1)\n",
    "term2 = cp.exp(-opt_x1 + 1)\n",
    "term3 = cp.exp(opt_x2 - 2)\n",
    "term4 = cp.exp( -opt_x2 + 2)\n",
    "term5 = cp.exp(opt_x3 - 3)\n",
    "term6 = cp.exp(-opt_x3 + 3)\n",
    "term7 = cp.power(opt_x1 + opt_x2 + opt_x3, 4)\n",
    "\n",
    "objective = term1 + term2 + term3 + term4 + term5 + term6 + term7\n",
    "problem = cp.Problem(cp.Minimize(objective))\n",
    "res = problem.solve()\n",
    "print(\"x1: {0}\\nx2: {1}\\nx3: {2}\".format(opt_x1.value, opt_x2.value, opt_x3.value))\n",
    "print(\"Minimum Value: {0}\".format(res))"
   ]
  },
  {
   "cell_type": "code",
   "execution_count": 37,
   "id": "8ea4952c",
   "metadata": {},
   "outputs": [
    {
     "name": "stdout",
     "output_type": "stream",
     "text": [
      "[-2.35040239 -2.35040239 -2.35040239]\n",
      "[2.35040239 2.35040239 2.35040239]\n",
      "[2.37390641 2.37390641 2.37390641]\n",
      "[2.3233805 2.3233805 2.3233805]\n",
      "[2.26762267 2.26762267 2.26762267]\n",
      "[2.20004261 2.20004261 2.20004261]\n",
      "[2.11593856 2.11593856 2.11593856]\n",
      "[2.01278757 2.01278757 2.01278757]\n",
      "[1.89049608 1.89049608 1.89049608]\n",
      "[1.75141785 1.75141785 1.75141785]\n",
      "[1.6000168 1.6000168 1.6000168]\n",
      "[1.44217318 1.44217318 1.44217318]\n",
      "[1.28426544 1.28426544 1.28426544]\n",
      "[1.13224526 1.13224526 1.13224526]\n",
      "[0.99091884 0.99091884 0.99091884]\n",
      "[0.86356045 0.86356045 0.86356045]\n",
      "[0.75186637 0.75186637 0.75186637]\n",
      "[0.65616444 0.65616444 0.65616444]\n",
      "[0.57575775 0.57575775 0.57575775]\n",
      "[0.50929271 0.50929271 0.50929271]\n",
      "[0.45507994 0.45507994 0.45507994]\n",
      "[0.41133627 0.41133627 0.41133627]\n",
      "[0.37634508 0.37634508 0.37634508]\n",
      "[0.34854816 0.34854816 0.34854816]\n",
      "[0.32658711 0.32658711 0.32658711]\n",
      "[0.30931157 0.30931157 0.30931157]\n",
      "[0.29576794 0.29576794 0.29576794]\n",
      "[0.28517825 0.28517825 0.28517825]\n",
      "[0.27691542 0.27691542 0.27691542]\n",
      "[0.27047861 0.27047861 0.27047861]\n",
      "[0.2654706 0.2654706 0.2654706]\n",
      "[0.26157807 0.26157807 0.26157807]\n",
      "[0.25855486 0.25855486 0.25855486]\n",
      "[0.25620821 0.25620821 0.25620821]\n",
      "[0.25438756 0.25438756 0.25438756]\n",
      "[0.2529755 0.2529755 0.2529755]\n",
      "[0.25188065 0.25188065 0.25188065]\n",
      "[0.25103192 0.25103192 0.25103192]\n",
      "[0.2503741 0.2503741 0.2503741]\n",
      "[0.2498643 0.2498643 0.2498643]\n",
      "[0.24946927 0.24946927 0.24946927]\n",
      "[0.24916319 0.24916319 0.24916319]\n",
      "[0.24892604 0.24892604 0.24892604]\n",
      "[array([1.99043579]), array([2.15360058]), array([2.30656124]), array([2.4488431]), array([2.5793077]), array([2.69654293]), array([2.79925884]), array([2.88664415]), array([2.95861491]), array([3.01589845]), array([3.05993964]), array([3.0926718]), array([3.1162312]), array([3.13269623]), array([3.14390418]), array([3.15136031]), array([3.15622412]), array([3.15934511]), array([3.16132071]), array([3.16255749]), array([3.16332484]), array([3.16379755]), array([3.16408709]), array([3.16426365]), array([3.16437093]), array([3.16443593]), array([3.16447523]), array([3.16449896]), array([3.16451326]), array([3.16452187])]\n"
     ]
    },
    {
     "data": {
      "text/plain": [
       "Text(0.5, 0, 'iteration')"
      ]
     },
     "execution_count": 37,
     "metadata": {},
     "output_type": "execute_result"
    },
    {
     "data": {
      "image/png": "[encoded data removed]",
      "text/plain": [
       "<Figure size 432x288 with 1 Axes>"
      ]
     },
     "metadata": {
      "needs_background": "light"
     },
     "output_type": "display_data"
    }
   ],
   "source": [
    "#write a function that handles the 1d case for gradient descent\n",
    "#write an outer function that will handle the \n",
    "#recall the direction is negative gradient for the gradient method\n",
    "\n",
    "'''\n",
    "backtracking line search steps:\n",
    "- fix a parameter beta from 0-1\n",
    "- start with iteration e = 1\n",
    "'''\n",
    "def func(x):\n",
    "    return (np.exp(x[0] - 1) + np.exp(-x[0] + 1) + np.exp(x[1] - 1) + np.exp(-x[1] + 1)\n",
    "        + np.exp(x[2] - 1) + np.exp(-x[2] + 1) +  np.power(x[0] + x[1] + x[2], 4))\n",
    "\n",
    "'''\n",
    "Initializing variables\n",
    "'''\n",
    "delta = 10 ** (-3)\n",
    "x1, x2, x3 = 0, 0, 0\n",
    "\n",
    "gradient = nd.Gradient(func)([x1, x2, x3])\n",
    "print(gradient)\n",
    "direction = -gradient\n",
    "beta = 0.01\n",
    "dpoints = []\n",
    "dpoints.append([x1, x2, x3])\n",
    "\n",
    "def backtracking(x1, x2, x3, gradient, delta, direction):\n",
    "    #when the norm is not close enough to delta continue\n",
    "    while np.linalg.norm(nd.Gradient(func)([x1, x2, x3])) > delta:\n",
    "        \n",
    "        #reset alpha/counter, backtracking line search\n",
    "        alpha = 1\n",
    "        while ((func([x1, x2, x3] + alpha * direction)) > (func([x1, x2, x3]) + alpha * beta * gradient * direction)[0]):  \n",
    "            print([x1, x2, x3] + alpha * direction)\n",
    "            alpha = beta * alpha\n",
    "        \n",
    "        gradient = nd.Gradient(func)([x1, x2, x3])\n",
    "        direction = -gradient\n",
    "        \n",
    "        #update points\n",
    "        x1 = x1 + alpha * direction[0]\n",
    "        x2 = x2 + alpha * direction[1]\n",
    "        x3 = x3 + alpha * direction[2]\n",
    "        dpoints.append([x1, x2, x3])\n",
    "    return dpoints\n",
    "\n",
    "dpoints = backtracking(x1, x2, x3, gradient, delta, direction)\n",
    "\n",
    "diff = []\n",
    "def draw(dpoints):\n",
    "    for i in range(30):\n",
    "        diff.append(abs(func(dpoints[i]) - func([opt_x1.value, opt_x2.value, opt_x3.value])))\n",
    "    print(diff)\n",
    "    return diff\n",
    "\n",
    "draw(dpoints)\n",
    "plt.yscale(\"log\")\n",
    "plt.plot(diff);\n",
    "plt.title(\"The difference in solution between CVXpy optima and Gradient Algorithm after 30 iterations\");\n",
    "plt.ylabel(\"|f(x*) - f(x_iteration)|\");\n",
    "plt.xlabel(\"iteration\")\n"
   ]
  },
  {
   "cell_type": "code",
   "execution_count": 52,
   "id": "c09220ea",
   "metadata": {},
   "outputs": [
    {
     "data": {
      "text/plain": [
       "array([4.010312, 4.010312, 4.010312])"
      ]
     },
     "execution_count": 52,
     "metadata": {},
     "output_type": "execute_result"
    }
   ],
   "source": [
    "#plot for the 3d plot\n",
    "splitted = list(zip(*pts))\n",
    "fig = plt.figure(figsize=(12, 12))\n",
    "ax = fig.add_subplot(projection='3d')\n",
    "# for i in range(len(splitted[0])):\n",
    "#     ax.quiver(0, 0, 0, splitted[0][i], splitted[1][i], splitted[2][i])\n",
    "ax.scatter(splitted[0], splitted[1], splitted[2])\n",
    "ax.set_xlabel(\"x1\")\n",
    "ax.set_ylabel(\"x2\")\n",
    "ax.set_zlabel(\"x3\");"
   ]
  },
  {
   "cell_type": "code",
   "execution_count": 16,
   "id": "3c53a3ee",
   "metadata": {},
   "outputs": [
    {
     "data": {
      "text/plain": [
       "[0.24808814286364592, 0.2480881428636451, 0.24808814286363895]"
      ]
     },
     "execution_count": 16,
     "metadata": {},
     "output_type": "execute_result"
    }
   ],
   "source": [
    "dpoints[-1]"
   ]
  }
 ],
 "metadata": {
  "kernelspec": {
   "display_name": "Python 3 (ipykernel)",
   "language": "python",
   "name": "python3"
  },
  "language_info": {
   "codemirror_mode": {
    "name": "ipython",
    "version": 3
   },
   "file_extension": ".py",
   "mimetype": "text/x-python",
   "name": "python",
   "nbconvert_exporter": "python",
   "pygments_lexer": "ipython3",
   "version": "3.9.0"
  }
 },
 "nbformat": 4,
 "nbformat_minor": 5
}
